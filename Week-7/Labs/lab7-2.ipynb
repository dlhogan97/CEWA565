{
 "cells": [
  {
   "cell_type": "markdown",
   "metadata": {},
   "source": [
    "# Lab 7-2: Markov Chains - ENSO Phases\n",
    "\n",
    "Download the data file for this lab, [ENSO_to2021.csv](https://mountain-hydrology-research-group.github.io/data-analysis/modules/data/ENSO_to2021.csv), which contains a record of the El Niño Southern Oscillation (ENSO) phase from 1900-2021.\n",
    "\n",
    "You can read more about ENSO [here](https://www.weather.gov/mhx/ensowhat), and [here](https://www.climate.gov/enso).\n",
    "\n",
    "---"
   ]
  },
  {
   "cell_type": "markdown",
   "metadata": {},
   "source": [
    "Importing python packages you'll need for this lab:"
   ]
  },
  {
   "cell_type": "code",
   "execution_count": 1,
   "metadata": {},
   "outputs": [],
   "source": [
    "import pandas as pd\n",
    "import numpy as np\n",
    "import scipy.stats as stats\n",
    "from scipy import sparse\n",
    "import matplotlib.pyplot as plt\n",
    "%matplotlib inline"
   ]
  },
  {
   "cell_type": "markdown",
   "metadata": {},
   "source": [
    "Load the data file"
   ]
  },
  {
   "cell_type": "code",
   "execution_count": 2,
   "metadata": {},
   "outputs": [
    {
     "data": {
      "text/html": [
       "<div>\n",
       "<style scoped>\n",
       "    .dataframe tbody tr th:only-of-type {\n",
       "        vertical-align: middle;\n",
       "    }\n",
       "\n",
       "    .dataframe tbody tr th {\n",
       "        vertical-align: top;\n",
       "    }\n",
       "\n",
       "    .dataframe thead th {\n",
       "        text-align: right;\n",
       "    }\n",
       "</style>\n",
       "<table border=\"1\" class=\"dataframe\">\n",
       "  <thead>\n",
       "    <tr style=\"text-align: right;\">\n",
       "      <th></th>\n",
       "      <th>Water Year</th>\n",
       "      <th>ENSO Phase</th>\n",
       "    </tr>\n",
       "  </thead>\n",
       "  <tbody>\n",
       "    <tr>\n",
       "      <th>0</th>\n",
       "      <td>1900</td>\n",
       "      <td>1</td>\n",
       "    </tr>\n",
       "    <tr>\n",
       "      <th>1</th>\n",
       "      <td>1901</td>\n",
       "      <td>2</td>\n",
       "    </tr>\n",
       "    <tr>\n",
       "      <th>2</th>\n",
       "      <td>1902</td>\n",
       "      <td>2</td>\n",
       "    </tr>\n",
       "  </tbody>\n",
       "</table>\n",
       "</div>"
      ],
      "text/plain": [
       "   Water Year  ENSO Phase\n",
       "0        1900           1\n",
       "1        1901           2\n",
       "2        1902           2"
      ]
     },
     "execution_count": 2,
     "metadata": {},
     "output_type": "execute_result"
    }
   ],
   "source": [
    "df = pd.read_csv('ENSO_to2021.csv', comment='#')\n",
    "data = df['ENSO Phase']\n",
    "# np.random.seed(1)\n",
    "df.head(3)"
   ]
  },
  {
   "cell_type": "markdown",
   "metadata": {},
   "source": [
    "---\n",
    "**A.** Using the time series of the phase of the El Niño Southern Oscillation (ENSO) from 1900-2021, create a lag-1 Markov model of the ENSO phase.\n",
    "\n",
    "Observed Phases of ENSO:\n",
    " - 1: warm (El Niño)  \n",
    " - 2: neutral (ENSO neutral)  \n",
    " - 3: cool, (La Niña)  "
   ]
  },
  {
   "cell_type": "markdown",
   "metadata": {},
   "source": [
    "Count transitions between each of the three ENSO phases using [scipy.sparse.csr_matrix()](https://docs.scipy.org/doc/scipy/reference/generated/scipy.sparse.csr_matrix.html) and then [scipy.sparse.csr_matrix.todense()](https://docs.scipy.org/doc/scipy/reference/generated/scipy.sparse.csr_matrix.todense.html)."
   ]
  },
  {
   "cell_type": "code",
   "execution_count": 3,
   "metadata": {},
   "outputs": [
    {
     "name": "stdout",
     "output_type": "stream",
     "text": [
      "[[ 0.  0.  0.  0.]\n",
      " [ 0. 11. 12. 17.]\n",
      " [ 0. 12. 15. 10.]\n",
      " [ 0. 16. 10. 18.]]\n"
     ]
    }
   ],
   "source": [
    "# count the transitions from each state to the next\n",
    "# This counts the transitions from each state to the next and marks that count\n",
    "S = sparse.csr_matrix((np.ones_like(data[:-1]), (data[:-1], data[1:])), dtype=float)\n",
    "# convert transition counts to matrix form\n",
    "# This converts those counts to matrix form\n",
    "tm = S.todense()\n",
    "print(tm)"
   ]
  },
  {
   "cell_type": "markdown",
   "metadata": {},
   "source": [
    "Normalize the transition matrix to get probabilities. This will create our lag-1 Markov Model."
   ]
  },
  {
   "cell_type": "code",
   "execution_count": 4,
   "metadata": {},
   "outputs": [
    {
     "name": "stdout",
     "output_type": "stream",
     "text": [
      "[[       nan        nan        nan        nan]\n",
      " [0.         0.275      0.3        0.425     ]\n",
      " [0.         0.32432432 0.40540541 0.27027027]\n",
      " [0.         0.36363636 0.22727273 0.40909091]]\n"
     ]
    },
    {
     "name": "stderr",
     "output_type": "stream",
     "text": [
      "<ipython-input-4-58e3ca30d8c7>:1: RuntimeWarning: invalid value encountered in true_divide\n",
      "  tm_norm = tm / tm.sum(axis=1)\n"
     ]
    }
   ],
   "source": [
    "tm_norm = tm / tm.sum(axis=1)\n",
    "    \n",
    "print(tm_norm) # This is our normalized transition matrix."
   ]
  },
  {
   "cell_type": "markdown",
   "metadata": {},
   "source": [
    "Compute cumulative sums along the rows, make sure these sum to 1. (We will use this cdf matrix below in a simulation of ENSO phases)"
   ]
  },
  {
   "cell_type": "code",
   "execution_count": 5,
   "metadata": {},
   "outputs": [],
   "source": [
    "# We take the above probabilities of transitions, and turn them into discrete CDF's.\n",
    "# These will allow us to map random numbers generated from a uniform distribution into \n",
    "# transitions that follow these probability rules.\n",
    "tm_cdf = np.cumsum(tm_norm,1)"
   ]
  },
  {
   "cell_type": "markdown",
   "metadata": {},
   "source": [
    "---\n",
    "**B.** Using this Markov model and a random number generator, simulate 5,000 years of ENSO data."
   ]
  },
  {
   "cell_type": "code",
   "execution_count": 6,
   "metadata": {},
   "outputs": [],
   "source": [
    "# pick the number of years we want to simulate (5000)\n",
    "n_years = 5000\n",
    "# use a uniform random number for 5000 years\n",
    "q = np.random.uniform(0,1,n_years); # uniformly distributed random numbers n_years long\n",
    "\n",
    "# start off in state 2, neutral\n",
    "initialstate = 2; # give it an initial state, doesn't really matter which\n",
    "\n",
    "Nrand = np.zeros_like(q) # initialize an array of the proper size, with the initial state\n",
    "Nrand[0] = initialstate;\n",
    "\n",
    "# Now, just like we did when we created monte carlo simulations from empirical CDFs,\n",
    "# we use our uniform random numbers to look up the next state in the transition matrix\n",
    "for i in range(1,n_years):\n",
    "    if q[i] <= tm_cdf[int(Nrand[i-1]),1]: #probability of transitioning from state i to 1\n",
    "        Nrand[i] = 1;\n",
    "    elif q[i] <= tm_cdf[int(Nrand[i-1]),2]: #transition from state i to 2\n",
    "        Nrand[i] = 2;\n",
    "    else:\n",
    "        Nrand[i] = 3;"
   ]
  },
  {
   "cell_type": "code",
   "execution_count": 7,
   "metadata": {},
   "outputs": [
    {
     "data": {
      "text/plain": [
       "2.0"
      ]
     },
     "execution_count": 7,
     "metadata": {},
     "output_type": "execute_result"
    }
   ],
   "source": [
    "Nrand[-1]"
   ]
  },
  {
   "cell_type": "markdown",
   "metadata": {},
   "source": [
    "---\n",
    "**C.** Using this randomly generated data, answer the following questions. \n",
    "\n",
    "* According to the model, what is the probability that three warm ENSO years would occur in a row?\n",
    "* What is the large-sample probability that three cool ENSO years would happen in a row?\n",
    "\n",
    "(Try refreshing the numbers several times to increase the sample size if the condition never happens.) "
   ]
  },
  {
   "cell_type": "code",
   "execution_count": 8,
   "metadata": {},
   "outputs": [
    {
     "name": "stdout",
     "output_type": "stream",
     "text": [
      "Frequency of three warm ENSOs in a row = 2.3%\n"
     ]
    }
   ],
   "source": [
    "# And how many times did state 1 appear?\n",
    "Test1 = [Nrand[0:-2], Nrand[1:-1], Nrand[2:]] # stack our data 3 times, shifting it to the right by 1 each time\n",
    "Test1 = np.stack(Test1, axis=1)\n",
    "\n",
    "G2 = np.where((np.max(Test1, axis=1) == 1) & (np.min(Test1, axis=1) == 1))\n",
    "# if both the maximum and the minimum are 3, then we have 3 ones in our sequence\n",
    "\n",
    "freqofthree1s = G2[0].size / Test1.shape[0]\n",
    "\n",
    "print('Frequency of three warm ENSOs in a row = {}%'.format(100*np.round(freqofthree1s,3)))"
   ]
  },
  {
   "cell_type": "code",
   "execution_count": 9,
   "metadata": {},
   "outputs": [
    {
     "name": "stdout",
     "output_type": "stream",
     "text": [
      "Frequency of three cold ENSOs in a row = 5.5%\n"
     ]
    }
   ],
   "source": [
    "# And how many times did state 1 appear?\n",
    "Test1 = [Nrand[0:-2], Nrand[1:-1], Nrand[2:]] # stack our data 3 times, shifting it to the right by 1 each time\n",
    "Test1 = np.stack(Test1, axis=1)\n",
    "\n",
    "G2 = np.where((np.max(Test1, axis=1) == 3) & (np.min(Test1, axis=1) == 3))\n",
    "# if both the maximum and the minimum are 3, then we have 3 ones in our sequence\n",
    "\n",
    "freqofthree1s = G2[0].size / Test1.shape[0]\n",
    "\n",
    "print('Frequency of three cold ENSOs in a row = {}%'.format(100*np.round(freqofthree1s,3)))"
   ]
  },
  {
   "cell_type": "markdown",
   "metadata": {},
   "source": [
    "**According to the model, what is the probability that three warm ENSO years would occur in a row?**\n",
    "The probability of three warm ENSO years in a row is approximately 2.3%\n",
    "\n",
    "**What is the large-sample probability that three cool ENSO years would happen in a row? (Try refreshing the numbers several times to increase the sample size if the condition never happens.)**\n",
    "The probability of three cool ENSO years in a row is approximately 5.5%"
   ]
  }
 ],
 "metadata": {
  "kernelspec": {
   "display_name": "Python 3",
   "language": "python",
   "name": "python3"
  },
  "language_info": {
   "codemirror_mode": {
    "name": "ipython",
    "version": 3
   },
   "file_extension": ".py",
   "mimetype": "text/x-python",
   "name": "python",
   "nbconvert_exporter": "python",
   "pygments_lexer": "ipython3",
   "version": "3.8.12"
  }
 },
 "nbformat": 4,
 "nbformat_minor": 4
}
