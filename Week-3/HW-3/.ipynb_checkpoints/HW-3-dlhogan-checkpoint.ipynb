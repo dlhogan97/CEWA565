{
 "cells": [
  {
   "cell_type": "markdown",
   "id": "5907adbf-b407-4ac6-b89b-5ea80afcef1f",
   "metadata": {},
   "source": [
    "# CEWA 565 - HW-3\n",
    "### Daniel Hogan\n",
    "### 10/26/2021"
   ]
  },
  {
   "cell_type": "markdown",
   "id": "bfdf32bc-3081-4a24-88e0-dca0b0c5248c",
   "metadata": {},
   "source": [
    "# Problem 1\n",
    "Download and work through the non-parametric tests notebook. Read the documentation and source code for the scipy.stats.ranksums and scipy.stats.mannwhitneyu functions.\n",
    "\n",
    "Then answer the following questions:\n",
    "\n",
    "**A. What assumptions about our data and/or the hypothesis test are each of these two functions (ranksums and mannwhitneyu) making?**\n",
    "\n",
    "The ranksums function assumes that the samples provided are from continuous distributions. It does not handle ties between two sets of data. The ranksums calculation excludes the continuity correction that we applied in the non-parametric test code. It returns the Z statistic.\n",
    "\n",
    "The mannwhitneyu function assumes the samples are independent from one another. It computes the U statistic and gives the option to include a continuity correction. U is computed in the same way we compute U in the non-parametric test code.\n",
    "\n",
    "**B. Are there any additional inputs/options we need to specify for either or both functions to make sure that they duplicate our results from the non-parametric tests notebook?**\n",
    "\n",
    "We need to make sure that the alternative hypothesis value is setup correctly: by default both of these functions use two-sided tests. For both of these functions, the order of input is important for how the statistics are calculated. The mannwhitneyu function offers the option to use a continuity correction of 1/2. If set to false, the outputted p-value is the same as the ranksums result. The method selection in the mannwhitneyu function depends on sample size and is used to determine how the p-value is calculated. For large sample sizes (n>8 when'auto' method is used), p is calculated by comparing the standardized test statistic against the normal distribution and correcting for ties.\n",
    "\n",
    "**C. Revisit Homework 2 part D, using the observations of peak flow data for the Sauk River to try and detect a change in streamflow around 1977. Perform the rank-sum test from Homework 2 part D again using the fuction(s) and/or options you identified here in part B. Discuss any differences in the test results that arise from slight differences in these two functions and the options you can choose.**"
   ]
  },
  {
   "cell_type": "code",
   "execution_count": 2,
   "id": "967178ea-8810-4440-91df-6942ec102059",
   "metadata": {},
   "outputs": [],
   "source": [
    "# import packages to be used\n",
    "import numpy as np\n",
    "import pandas as pd\n",
    "import os\n",
    "import scipy.stats as stats\n",
    "\n",
    "import matplotlib.pyplot as plt\n",
    "import matplotlib.ticker as mticker\n",
    "%matplotlib inline"
   ]
  },
  {
   "cell_type": "code",
   "execution_count": 5,
   "id": "5c562faa-8221-498f-84c8-fea4da5220f6",
   "metadata": {},
   "outputs": [],
   "source": [
    "# change working directory\n",
    "path = '/home/jovyan/Week-3/HW-3/'\n",
    "os.chdir(path)\n",
    "# save each river peak flow file \n",
    "sauk_peaks = pd.read_excel('Sauk_peak_WY1929_2017.xlsx',skiprows=6).iloc[1:]"
   ]
  },
  {
   "cell_type": "code",
   "execution_count": 47,
   "id": "6a638db2-e737-4b58-9df7-85594dd7fbda",
   "metadata": {},
   "outputs": [],
   "source": [
    "# genarate pre and post 1977 Sauk River datasets\n",
    "sauk_peaks_b = sauk_peaks[sauk_peaks['water_year']<1977]\n",
    "sauk_peaks_a = sauk_peaks[sauk_peaks['water_year']>=1977]\n",
    "# check that sample size is long enough\n",
    "m = len(sauk_peaks_b)\n",
    "n = len(sauk_peaks_a)"
   ]
  },
  {
   "cell_type": "markdown",
   "id": "a353c083-4f7c-487b-abd3-3c5cf6dc0602",
   "metadata": {},
   "source": [
    "Compute the Z-stat and p-value using rank sums. This is the method used in homework 2 part D."
   ]
  },
  {
   "cell_type": "code",
   "execution_count": 48,
   "id": "400c29ad-5594-4372-ac19-c0ff47d227d5",
   "metadata": {},
   "outputs": [
    {
     "name": "stdout",
     "output_type": "stream",
     "text": [
      "Z from stats.ranksums: 2.4973\n",
      "P (two-sided) from stats.ranksums: 0.0125\n"
     ]
    }
   ],
   "source": [
    "# Reference 2 - code adapted from lab 2-2\n",
    "z_ranksum, p_ranksum = stats.ranksums(sauk_peaks_a['peak_va'], sauk_peaks_b['peak_va'])\n",
    "print(\"Z from stats.ranksums: {}\".format(np.round(z_ranksum,4)))\n",
    "print(\"P (two-sided) from stats.ranksums: {}\".format(np.round(p_ranksum,4)))"
   ]
  },
  {
   "cell_type": "markdown",
   "id": "ec93a5fe-977f-4180-976a-a11a1d430b28",
   "metadata": {},
   "source": [
    "As expected, we get the same results as before.\n",
    "\n",
    "Now, let's use the mannwhitneyu function to compute the same thing, setting this as a two-sided test (since we are just looking for any change in peak flows):"
   ]
  },
  {
   "cell_type": "code",
   "execution_count": 49,
   "id": "e2ad059e-cd28-4d11-9a85-4db5643844b1",
   "metadata": {},
   "outputs": [
    {
     "name": "stdout",
     "output_type": "stream",
     "text": [
      "Z from stats.mannwhitneyu: 2.4934\n",
      "P (two-sided) from stats.mannwhitneyu: 0.0126\n"
     ]
    }
   ],
   "source": [
    "# Compute Z and P using alternative = 'two-sided'\n",
    "U_mannwhitneyu, p_mannwhitneyu = stats.mannwhitneyu(sauk_peaks_a['peak_va'], sauk_peaks_b['peak_va'], alternative='two-sided')\n",
    "# compute Z statistic from U value\n",
    "W = U_mannwhitneyu + (n*(n+1))/2\n",
    "Z = (W  - 0.5 -0.5*n*(m+n+1)) / np.sqrt( n*m*(n+m+1)/12 )\n",
    "print(\"Z from stats.mannwhitneyu: {}\".format(np.round(Z,4)))\n",
    "print(\"P (two-sided) from stats.mannwhitneyu: {}\".format(np.round(p_mannwhitneyu,4)))"
   ]
  },
  {
   "cell_type": "markdown",
   "id": "8b46874a-4470-4177-9b39-c0d2768bba4f",
   "metadata": {},
   "source": [
    "Interesting... this change lead to a slighly lower z-stat and a slightly higher p-value, meaning this test result was, very slightly, closer to the null hypothesis of no change.\n",
    "\n",
    "Now, let's remove the continuity correction from the U calculation and the calculation of Z and see what we get:"
   ]
  },
  {
   "cell_type": "code",
   "execution_count": 46,
   "id": "d8386c85-0f82-4f58-b427-0f554bf42623",
   "metadata": {},
   "outputs": [
    {
     "name": "stdout",
     "output_type": "stream",
     "text": [
      "Z from stats.mannwhitneyu: 2.4973\n",
      "P (two-sided) from stats.mannwhitneyu: 0.0125\n"
     ]
    }
   ],
   "source": [
    "# Compute Z and P using alternative = 'two-sided' and setting use_continuity to False\n",
    "U_mannwhitneyu, p_mannwhitneyu = stats.mannwhitneyu(sauk_peaks_a['peak_va'], sauk_peaks_b['peak_va'], alternative='two-sided', use_continuity=False)\n",
    "# compute Z statistic from U value\n",
    "W = U_mannwhitneyu + (n*(n+1))/2\n",
    "Z = (W -0.5*n*(m+n+1)) / np.sqrt( n*m*(n+m+1)/12 )\n",
    "print(\"Z from stats.mannwhitneyu: {}\".format(np.round(Z,4)))\n",
    "print(\"P (two-sided) from stats.mannwhitneyu: {}\".format(np.round(p_mannwhitneyu,4)))"
   ]
  },
  {
   "cell_type": "markdown",
   "id": "03d27a9a-c592-473a-8704-f16704cc6450",
   "metadata": {},
   "source": [
    "This is the same as the ranksums result, meaning that this continuity correction for ties in rank accounts for the difference between these two results."
   ]
  },
  {
   "cell_type": "markdown",
   "id": "0a134214-7445-4196-b743-d6f9971bc80d",
   "metadata": {},
   "source": [
    "# Problem 2\n",
    "\n",
    "## Part A. \n",
    "\n",
    "First, plot the timeseries of the streamflow measurements as a function of water year for both watershed 1 and watershed 2 on the same graph. Use vertical dashed lines (axvline in matplotlib) to indicate the different periods (put a vertical dashed line in 1963, in 1967, and in 1982)."
   ]
  },
  {
   "cell_type": "code",
   "execution_count": 111,
   "id": "73e6c263-7906-4c58-b0b5-965ace57aace",
   "metadata": {},
   "outputs": [
    {
     "name": "stderr",
     "output_type": "stream",
     "text": [
      "/opt/conda/lib/python3.8/site-packages/openpyxl/worksheet/_reader.py:312: UserWarning: Unknown extension is not supported and will be removed\n",
      "  warn(msg)\n"
     ]
    },
    {
     "data": {
      "text/html": [
       "<div>\n",
       "<style scoped>\n",
       "    .dataframe tbody tr th:only-of-type {\n",
       "        vertical-align: middle;\n",
       "    }\n",
       "\n",
       "    .dataframe tbody tr th {\n",
       "        vertical-align: top;\n",
       "    }\n",
       "\n",
       "    .dataframe thead th {\n",
       "        text-align: right;\n",
       "    }\n",
       "</style>\n",
       "<table border=\"1\" class=\"dataframe\">\n",
       "  <thead>\n",
       "    <tr style=\"text-align: right;\">\n",
       "      <th></th>\n",
       "      <th>Water Year</th>\n",
       "      <th>Watershed 1</th>\n",
       "      <th>Watershed 2</th>\n",
       "      <th>Watershed 3</th>\n",
       "    </tr>\n",
       "  </thead>\n",
       "  <tbody>\n",
       "    <tr>\n",
       "      <th>0</th>\n",
       "      <td>1953.0</td>\n",
       "      <td>87.5495</td>\n",
       "      <td>96.0073</td>\n",
       "      <td>81.9364</td>\n",
       "    </tr>\n",
       "    <tr>\n",
       "      <th>1</th>\n",
       "      <td>1954.0</td>\n",
       "      <td>74.7993</td>\n",
       "      <td>60.2205</td>\n",
       "      <td>50.7975</td>\n",
       "    </tr>\n",
       "    <tr>\n",
       "      <th>2</th>\n",
       "      <td>1955.0</td>\n",
       "      <td>54.4041</td>\n",
       "      <td>40.5364</td>\n",
       "      <td>35.1773</td>\n",
       "    </tr>\n",
       "    <tr>\n",
       "      <th>3</th>\n",
       "      <td>1956.0</td>\n",
       "      <td>73.5548</td>\n",
       "      <td>69.7704</td>\n",
       "      <td>54.6327</td>\n",
       "    </tr>\n",
       "    <tr>\n",
       "      <th>4</th>\n",
       "      <td>1957.0</td>\n",
       "      <td>78.3552</td>\n",
       "      <td>71.5483</td>\n",
       "      <td>57.1218</td>\n",
       "    </tr>\n",
       "  </tbody>\n",
       "</table>\n",
       "</div>"
      ],
      "text/plain": [
       "   Water Year  Watershed 1  Watershed 2  Watershed 3\n",
       "0      1953.0      87.5495      96.0073      81.9364\n",
       "1      1954.0      74.7993      60.2205      50.7975\n",
       "2      1955.0      54.4041      40.5364      35.1773\n",
       "3      1956.0      73.5548      69.7704      54.6327\n",
       "4      1957.0      78.3552      71.5483      57.1218"
      ]
     },
     "execution_count": 111,
     "metadata": {},
     "output_type": "execute_result"
    }
   ],
   "source": [
    "# load in data\n",
    "df = pd.read_excel('HJAndrews_peakflow_WS1_WS2_WS3.xlsx')\n",
    "# data cleaning \n",
    "df = df.rename(columns=df.iloc[1]).drop(df.index[0])\n",
    "df = df.drop(df.columns[-2:],axis=1)\n",
    "df = df.drop(df.index[0]).reset_index()\n",
    "df = df.drop(df.columns[0],axis=1).astype(float)\n",
    "# check out result\n",
    "df.head()\n"
   ]
  },
  {
   "cell_type": "markdown",
   "id": "98f2161c-1199-4e94-a8a8-23ad0dbba5b9",
   "metadata": {},
   "source": [
    "Now the data is cleaned up, let's plot up watershed 1 vs watershed 2 and add in the special dates"
   ]
  },
  {
   "cell_type": "code",
   "execution_count": 112,
   "id": "04813856-689f-462d-9da2-7254d7d25b5f",
   "metadata": {},
   "outputs": [
    {
     "data": {
      "text/plain": [
       "Text(0.5, 1.0, 'HJ Andrews Streamflow in Watershed 1 and 2')"
      ]
     },
     "execution_count": 112,
     "metadata": {},
     "output_type": "execute_result"
    },
    {
     "data": {
      "image/png": "[encoded data removed]",
      "text/plain": [
       "<Figure size 432x288 with 1 Axes>"
      ]
     },
     "metadata": {
      "needs_background": "light"
     },
     "output_type": "display_data"
    }
   ],
   "source": [
    "# Watershed 1 plot\n",
    "plt.plot(df['Water Year'],df['Watershed 1'], label = 'Watershed 1')\n",
    "# Watershed 2 plot\n",
    "plt.plot(df['Water Year'],df['Watershed 2'], label = 'Watershed 2')\n",
    "# vertical lines for dates of interest\n",
    "for year in [1963,1967, 1982]:\n",
    "    plt.axvline(year, ls='--',color='r')\n",
    "    if year == 1963:\n",
    "        plt.text(year-7,140,str(year))\n",
    "    else:\n",
    "        plt.text(year+2,140,str(year))\n",
    "plt.legend()\n",
    "plt.xlabel('Year')\n",
    "plt.ylabel('Streamflow [cfs]')\n",
    "plt.title('HJ Andrews Streamflow in Watershed 1 and 2')\n",
    "    "
   ]
  },
  {
   "cell_type": "markdown",
   "id": "1301ba62-9ce1-450a-b638-c311f0778453",
   "metadata": {},
   "source": [
    "## Part B. \n",
    "It has been suggested that paired data such as this can be made to be closer to normally distributed by taking the log of each value before subtracting. Create two datasets: Q12 = streamflow1 - streamflow2 and Qlog12 = log(streamflow1)- log(streamflow2) and make graphs to demonstrate which is closer to normally distributed. Given that we want to use an ANOVA analysis, explain why is it important to do a transformation to get the data closer to normally distributed?"
   ]
  },
  {
   "cell_type": "code",
   "execution_count": 146,
   "id": "7ddcd3d9-c731-4195-a3ab-d45d3492a44f",
   "metadata": {},
   "outputs": [
    {
     "data": {
      "text/plain": [
       "0    -0.040051\n",
       "1     0.094153\n",
       "2     0.127786\n",
       "3     0.022940\n",
       "4     0.039469\n",
       "        ...   \n",
       "58    0.092115\n",
       "59    0.102841\n",
       "60    0.088215\n",
       "61    0.127763\n",
       "62    0.103990\n",
       "Length: 63, dtype: float64"
      ]
     },
     "execution_count": 146,
     "metadata": {},
     "output_type": "execute_result"
    }
   ],
   "source": [
    "# compute difference and log difference\n",
    "q12 = df['Watershed 1'] - df['Watershed 2']\n",
    "qlog12 = np.log10(df['Watershed 1'])-np.log10(df['Watershed 2'])"
   ]
  },
  {
   "cell_type": "code",
   "execution_count": 150,
   "id": "c106c30c-c10a-4a03-b8a2-af0e32c4750c",
   "metadata": {},
   "outputs": [
    {
     "data": {
      "text/plain": [
       "Text(0.5, 1.0, 'log($\\\\Delta$Q) histogram for normalility analysis')"
      ]
     },
     "execution_count": 150,
     "metadata": {},
     "output_type": "execute_result"
    },
    {
     "data": {
      "image/png": "[encoded data removed]",
      "text/plain": [
       "<Figure size 720x360 with 2 Axes>"
      ]
     },
     "metadata": {
      "needs_background": "light"
     },
     "output_type": "display_data"
    }
   ],
   "source": [
    "nbins = 10\n",
    "fig,axs = plt.subplots(ncols=2, figsize=(10,5))\n",
    "axs[0].hist(q12,bins=nbins,density=True, label=r'$\\Delta$Q') # to get pdfset density=True\n",
    "axs[1].hist(qlog12,bins=nbins,density=True, label=r'log($\\Delta$Q)') # to get pdfset density=True\n",
    "\n",
    "# Create values for z\n",
    "z_q = np.linspace(-4, 4, num=160) * q12.std()\n",
    "z_qlog = np.linspace(-4, 4, num=160) * qlog12.std()\n",
    "# Plot the theoretical PDF for each computation\n",
    "axs[0].plot(z_q, stats.norm.pdf(z_q,q12.mean(),q12.std()), label='Theoretical PDF')\n",
    "axs[0].legend()\n",
    "axs[0].set_ylabel('Probability')\n",
    "axs[0].set_xlabel(r'$\\Delta$Q')\n",
    "axs[0].set_title('$\\Delta$Q histogram for normalility analysis')\n",
    "\n",
    "axs[1].plot(z_qlog, stats.norm.pdf(z_qlog,qlog12.mean(),qlog12.std()), label='Theoretical PDF')\n",
    "axs[1].legend()\n",
    "axs[1].set_ylabel('Probability')\n",
    "axs[1].set_xlabel(r'$\\Delta$Q')\n",
    "axs[1].set_title('log($\\Delta$Q) histogram for normalility analysis')"
   ]
  },
  {
   "cell_type": "markdown",
   "id": "b3c2ad0d-e088-4e18-897c-ab2a7b0a1e09",
   "metadata": {},
   "source": [
    "Although the log difference can improve normality, by comparing the plots above it looks like the simple difference method looks more normal, when compared to a theoretical normal pdf. Thus, I will use the $\\Delta Q$ difference method for my analysis. \n",
    "\n",
    "The ANOVA test needs data that is normally distributed, so choosing a normalized dataset (or transforming it to look more normal) is vital for the ANOVA test to produce meaningful results."
   ]
  },
  {
   "cell_type": "markdown",
   "id": "9a485cb9-25e2-4bf2-9fa4-9b41d849b5d1",
   "metadata": {},
   "source": [
    "## Part C. \n",
    "State the null and the alternative hypothesis for the question of whether the four periods are statistically different from each other. State the type I error (alpha value) that you are willing to accept."
   ]
  },
  {
   "cell_type": "code",
   "execution_count": null,
   "id": "49a449a4-37d2-4db5-93c2-54db26066949",
   "metadata": {},
   "outputs": [],
   "source": []
  }
 ],
 "metadata": {
  "kernelspec": {
   "display_name": "Python 3",
   "language": "python",
   "name": "python3"
  },
  "language_info": {
   "codemirror_mode": {
    "name": "ipython",
    "version": 3
   },
   "file_extension": ".py",
   "mimetype": "text/x-python",
   "name": "python",
   "nbconvert_exporter": "python",
   "pygments_lexer": "ipython3",
   "version": "3.8.8"
  }
 },
 "nbformat": 4,
 "nbformat_minor": 5
}
