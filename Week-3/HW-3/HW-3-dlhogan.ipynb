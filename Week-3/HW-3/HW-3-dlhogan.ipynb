{
 "cells": [
  {
   "cell_type": "markdown",
   "id": "5907adbf-b407-4ac6-b89b-5ea80afcef1f",
   "metadata": {},
   "source": [
    "# CEWA 565 - HW-3\n",
    "### Daniel Hogan\n",
    "### 10/26/2021"
   ]
  },
  {
   "cell_type": "markdown",
   "id": "bfdf32bc-3081-4a24-88e0-dca0b0c5248c",
   "metadata": {},
   "source": [
    "# Problem 1\n",
    "Download and work through the non-parametric tests notebook. Read the documentation and source code for the scipy.stats.ranksums and scipy.stats.mannwhitneyu functions.\n",
    "\n",
    "Then answer the following questions:\n",
    "\n",
    "**A. What assumptions about our data and/or the hypothesis test are each of these two functions (ranksums and mannwhitneyu) making?**\n",
    "\n",
    "The ranksums function assumes that the samples provided are from continuous distributions. It does not handle ties between two sets of data. The ranksums calculation excludes the continuity correction that we applied in the non-parametric test code. It returns the Z statistic.\n",
    "\n",
    "The mannwhitneyu function assumes the samples are independent from one another. It computes the U statistic and gives the option to include a continuity correction. U is computed in the same way we compute U in the non-parametric test code.\n",
    "\n",
    "**B. Are there any additional inputs/options we need to specify for either or both functions to make sure that they duplicate our results from the non-parametric tests notebook?**\n",
    "\n",
    "We need to make sure that the alternative hypothesis value is setup correctly: by default both of these functions use two-sided tests. For both of these functions, the order of input is important for how the statistics are calculated. The mannwhitneyu function offers the option to use a continuity correction of 1/2. If set to false, the outputted p-value is the same as the ranksums result. The method selection in the mannwhitneyu function depends on sample size and is used to determine how the p-value is calculated. For large sample sizes (n>8 when'auto' method is used), p is calculated by comparing the standardized test statistic against the normal distribution and correcting for ties.\n",
    "\n",
    "**C. Revisit Homework 2 part D, using the observations of peak flow data for the Sauk River to try and detect a change in streamflow around 1977. Perform the rank-sum test from Homework 2 part D again using the fuction(s) and/or options you identified here in part B. Discuss any differences in the test results that arise from slight differences in these two functions and the options you can choose.**"
   ]
  },
  {
   "cell_type": "code",
   "execution_count": 1,
   "id": "967178ea-8810-4440-91df-6942ec102059",
   "metadata": {},
   "outputs": [],
   "source": [
    "# import packages to be used\n",
    "import numpy as np\n",
    "import pandas as pd\n",
    "import os\n",
    "import scipy.stats as stats\n",
    "\n",
    "import matplotlib.pyplot as plt\n",
    "import matplotlib.ticker as mticker\n",
    "%matplotlib inline"
   ]
  },
  {
   "cell_type": "code",
   "execution_count": 2,
   "id": "5c562faa-8221-498f-84c8-fea4da5220f6",
   "metadata": {},
   "outputs": [
    {
     "name": "stderr",
     "output_type": "stream",
     "text": [
      "/opt/conda/lib/python3.8/site-packages/openpyxl/worksheet/_reader.py:312: UserWarning: Unknown extension is not supported and will be removed\n",
      "  warn(msg)\n"
     ]
    }
   ],
   "source": [
    "# change working directory\n",
    "path = '/home/jovyan/Week-3/HW-3/'\n",
    "os.chdir(path)\n",
    "# save each river peak flow file \n",
    "sauk_peaks = pd.read_excel('Sauk_peak_WY1929_2017.xlsx',skiprows=6).iloc[1:]"
   ]
  },
  {
   "cell_type": "code",
   "execution_count": 3,
   "id": "6a638db2-e737-4b58-9df7-85594dd7fbda",
   "metadata": {},
   "outputs": [],
   "source": [
    "# genarate pre and post 1977 Sauk River datasets\n",
    "sauk_peaks_b = sauk_peaks[sauk_peaks['water_year']<1977]\n",
    "sauk_peaks_a = sauk_peaks[sauk_peaks['water_year']>=1977]\n",
    "# check that sample size is long enough\n",
    "m = len(sauk_peaks_b)\n",
    "n = len(sauk_peaks_a)"
   ]
  },
  {
   "cell_type": "markdown",
   "id": "a353c083-4f7c-487b-abd3-3c5cf6dc0602",
   "metadata": {},
   "source": [
    "Compute the Z-stat and p-value using rank sums. This is the method used in homework 2 part D."
   ]
  },
  {
   "cell_type": "code",
   "execution_count": 4,
   "id": "400c29ad-5594-4372-ac19-c0ff47d227d5",
   "metadata": {},
   "outputs": [
    {
     "name": "stdout",
     "output_type": "stream",
     "text": [
      "Z from stats.ranksums: 2.4973\n",
      "P (two-sided) from stats.ranksums: 0.0125\n"
     ]
    }
   ],
   "source": [
    "# Reference 2 - code adapted from lab 2-2\n",
    "z_ranksum, p_ranksum = stats.ranksums(sauk_peaks_a['peak_va'], sauk_peaks_b['peak_va'])\n",
    "print(\"Z from stats.ranksums: {}\".format(np.round(z_ranksum,4)))\n",
    "print(\"P (two-sided) from stats.ranksums: {}\".format(np.round(p_ranksum,4)))"
   ]
  },
  {
   "cell_type": "markdown",
   "id": "ec93a5fe-977f-4180-976a-a11a1d430b28",
   "metadata": {},
   "source": [
    "As expected, we get the same results as before.\n",
    "\n",
    "Now, let's use the mannwhitneyu function to compute the same thing, setting this as a two-sided test (since we are just looking for any change in peak flows):"
   ]
  },
  {
   "cell_type": "code",
   "execution_count": 5,
   "id": "e2ad059e-cd28-4d11-9a85-4db5643844b1",
   "metadata": {},
   "outputs": [
    {
     "name": "stdout",
     "output_type": "stream",
     "text": [
      "Z from stats.mannwhitneyu: 2.4934\n",
      "P (two-sided) from stats.mannwhitneyu: 0.0126\n"
     ]
    }
   ],
   "source": [
    "# Compute Z and P using alternative = 'two-sided'\n",
    "U_mannwhitneyu, p_mannwhitneyu = stats.mannwhitneyu(sauk_peaks_a['peak_va'], sauk_peaks_b['peak_va'], alternative='two-sided')\n",
    "# compute Z statistic from U value\n",
    "W = U_mannwhitneyu + (n*(n+1))/2\n",
    "Z = (W  - 0.5 -0.5*n*(m+n+1)) / np.sqrt( n*m*(n+m+1)/12 )\n",
    "print(\"Z from stats.mannwhitneyu: {}\".format(np.round(Z,4)))\n",
    "print(\"P (two-sided) from stats.mannwhitneyu: {}\".format(np.round(p_mannwhitneyu,4)))"
   ]
  },
  {
   "cell_type": "markdown",
   "id": "8b46874a-4470-4177-9b39-c0d2768bba4f",
   "metadata": {},
   "source": [
    "Interesting... this change lead to a slighly lower z-stat and a slightly higher p-value, meaning this test result was, very slightly, closer to the null hypothesis of no change.\n",
    "\n",
    "Now, let's remove the continuity correction from the U calculation and the calculation of Z and see what we get:"
   ]
  },
  {
   "cell_type": "code",
   "execution_count": 6,
   "id": "d8386c85-0f82-4f58-b427-0f554bf42623",
   "metadata": {},
   "outputs": [
    {
     "name": "stdout",
     "output_type": "stream",
     "text": [
      "Z from stats.mannwhitneyu: 2.4973\n",
      "P (two-sided) from stats.mannwhitneyu: 0.0125\n"
     ]
    }
   ],
   "source": [
    "# Compute Z and P using alternative = 'two-sided' and setting use_continuity to False\n",
    "U_mannwhitneyu, p_mannwhitneyu = stats.mannwhitneyu(sauk_peaks_a['peak_va'], sauk_peaks_b['peak_va'], alternative='two-sided', use_continuity=False)\n",
    "# compute Z statistic from U value\n",
    "W = U_mannwhitneyu + (n*(n+1))/2\n",
    "Z = (W -0.5*n*(m+n+1)) / np.sqrt( n*m*(n+m+1)/12 )\n",
    "print(\"Z from stats.mannwhitneyu: {}\".format(np.round(Z,4)))\n",
    "print(\"P (two-sided) from stats.mannwhitneyu: {}\".format(np.round(p_mannwhitneyu,4)))"
   ]
  },
  {
   "cell_type": "markdown",
   "id": "03d27a9a-c592-473a-8704-f16704cc6450",
   "metadata": {},
   "source": [
    "This is the same as the ranksums result, meaning that this continuity correction for ties in rank accounts for the difference between these two results."
   ]
  },
  {
   "cell_type": "markdown",
   "id": "0a134214-7445-4196-b743-d6f9971bc80d",
   "metadata": {},
   "source": [
    "# Problem 2\n",
    "\n",
    "## Part A. \n",
    "\n",
    "First, plot the timeseries of the streamflow measurements as a function of water year for both watershed 1 and watershed 2 on the same graph. Use vertical dashed lines (axvline in matplotlib) to indicate the different periods (put a vertical dashed line in 1963, in 1967, and in 1982)."
   ]
  },
  {
   "cell_type": "code",
   "execution_count": 80,
   "id": "73e6c263-7906-4c58-b0b5-965ace57aace",
   "metadata": {},
   "outputs": [
    {
     "name": "stderr",
     "output_type": "stream",
     "text": [
      "/opt/conda/lib/python3.8/site-packages/openpyxl/worksheet/_reader.py:312: UserWarning: Unknown extension is not supported and will be removed\n",
      "  warn(msg)\n"
     ]
    },
    {
     "data": {
      "text/html": [
       "<div>\n",
       "<style scoped>\n",
       "    .dataframe tbody tr th:only-of-type {\n",
       "        vertical-align: middle;\n",
       "    }\n",
       "\n",
       "    .dataframe tbody tr th {\n",
       "        vertical-align: top;\n",
       "    }\n",
       "\n",
       "    .dataframe thead th {\n",
       "        text-align: right;\n",
       "    }\n",
       "</style>\n",
       "<table border=\"1\" class=\"dataframe\">\n",
       "  <thead>\n",
       "    <tr style=\"text-align: right;\">\n",
       "      <th></th>\n",
       "      <th>Water Year</th>\n",
       "      <th>Watershed 1</th>\n",
       "      <th>Watershed 2</th>\n",
       "      <th>Watershed 3</th>\n",
       "      <th>period</th>\n",
       "    </tr>\n",
       "  </thead>\n",
       "  <tbody>\n",
       "    <tr>\n",
       "      <th>0</th>\n",
       "      <td>1953.0</td>\n",
       "      <td>87.5495</td>\n",
       "      <td>96.0073</td>\n",
       "      <td>81.9364</td>\n",
       "      <td>control</td>\n",
       "    </tr>\n",
       "    <tr>\n",
       "      <th>1</th>\n",
       "      <td>1954.0</td>\n",
       "      <td>74.7993</td>\n",
       "      <td>60.2205</td>\n",
       "      <td>50.7975</td>\n",
       "      <td>control</td>\n",
       "    </tr>\n",
       "    <tr>\n",
       "      <th>2</th>\n",
       "      <td>1955.0</td>\n",
       "      <td>54.4041</td>\n",
       "      <td>40.5364</td>\n",
       "      <td>35.1773</td>\n",
       "      <td>control</td>\n",
       "    </tr>\n",
       "    <tr>\n",
       "      <th>3</th>\n",
       "      <td>1956.0</td>\n",
       "      <td>73.5548</td>\n",
       "      <td>69.7704</td>\n",
       "      <td>54.6327</td>\n",
       "      <td>control</td>\n",
       "    </tr>\n",
       "    <tr>\n",
       "      <th>4</th>\n",
       "      <td>1957.0</td>\n",
       "      <td>78.3552</td>\n",
       "      <td>71.5483</td>\n",
       "      <td>57.1218</td>\n",
       "      <td>control</td>\n",
       "    </tr>\n",
       "  </tbody>\n",
       "</table>\n",
       "</div>"
      ],
      "text/plain": [
       "   Water Year  Watershed 1  Watershed 2  Watershed 3   period\n",
       "0      1953.0      87.5495      96.0073      81.9364  control\n",
       "1      1954.0      74.7993      60.2205      50.7975  control\n",
       "2      1955.0      54.4041      40.5364      35.1773  control\n",
       "3      1956.0      73.5548      69.7704      54.6327  control\n",
       "4      1957.0      78.3552      71.5483      57.1218  control"
      ]
     },
     "execution_count": 80,
     "metadata": {},
     "output_type": "execute_result"
    }
   ],
   "source": [
    "# load in data\n",
    "df = pd.read_excel('HJAndrews_peakflow_WS1_WS2_WS3.xlsx')\n",
    "# data cleaning \n",
    "df = df.rename(columns=df.iloc[1]).drop(df.index[0])\n",
    "df = df.drop(df.columns[-1],axis=1)\n",
    "df = df.rename(columns={df.columns[-1]:'period'})\n",
    "df = df.drop(df.index[0]).reset_index()\n",
    "df = df.drop(df.columns[0],axis=1).astype(float)\n",
    "periods = ['control', 'active-logging', 'after-logging', 'long-after-logging']\n",
    "for i,period in enumerate(periods):\n",
    "    tmp = df['period'].copy(deep=True)\n",
    "    tmp.loc[tmp==i+1] = period\n",
    "    df['period'] = tmp\n",
    "# check out result\n",
    "df.head()\n"
   ]
  },
  {
   "cell_type": "markdown",
   "id": "98f2161c-1199-4e94-a8a8-23ad0dbba5b9",
   "metadata": {},
   "source": [
    "Now the data is cleaned up, let's plot up watershed 1 vs watershed 2 and add in the special dates"
   ]
  },
  {
   "cell_type": "code",
   "execution_count": 81,
   "id": "04813856-689f-462d-9da2-7254d7d25b5f",
   "metadata": {},
   "outputs": [
    {
     "data": {
      "text/plain": [
       "Text(0.5, 1.0, 'HJ Andrews Streamflow in Watershed 1 and 2')"
      ]
     },
     "execution_count": 81,
     "metadata": {},
     "output_type": "execute_result"
    },
    {
     "data": {
      "image/png": "[encoded data removed]",
      "text/plain": [
       "<Figure size 432x288 with 1 Axes>"
      ]
     },
     "metadata": {
      "needs_background": "light"
     },
     "output_type": "display_data"
    }
   ],
   "source": [
    "# Watershed 1 plot\n",
    "plt.plot(df['Water Year'],df['Watershed 1'], label = 'Watershed 1')\n",
    "# Watershed 2 plot\n",
    "plt.plot(df['Water Year'],df['Watershed 2'], label = 'Watershed 2')\n",
    "# vertical lines for dates of interest\n",
    "for year in [1963,1967, 1982]:\n",
    "    plt.axvline(year, ls='--',color='r')\n",
    "    if year == 1963:\n",
    "        plt.text(year-7,140,str(year))\n",
    "    else:\n",
    "        plt.text(year+2,140,str(year))\n",
    "plt.legend()\n",
    "plt.xlabel('Year')\n",
    "plt.ylabel('Streamflow [cfs]')\n",
    "plt.title('HJ Andrews Streamflow in Watershed 1 and 2')\n",
    "    "
   ]
  },
  {
   "cell_type": "markdown",
   "id": "1301ba62-9ce1-450a-b638-c311f0778453",
   "metadata": {},
   "source": [
    "## Part B. \n",
    "It has been suggested that paired data such as this can be made to be closer to normally distributed by taking the log of each value before subtracting. Create two datasets: Q12 = streamflow1 - streamflow2 and Qlog12 = log(streamflow1)- log(streamflow2) and make graphs to demonstrate which is closer to normally distributed. Given that we want to use an ANOVA analysis, explain why is it important to do a transformation to get the data closer to normally distributed?"
   ]
  },
  {
   "cell_type": "code",
   "execution_count": 82,
   "id": "7ddcd3d9-c731-4195-a3ab-d45d3492a44f",
   "metadata": {},
   "outputs": [],
   "source": [
    "# compute difference and log difference\n",
    "q12 = df['Watershed 1'] - df['Watershed 2']\n",
    "qlog12 = np.log10(df['Watershed 1'])-np.log10(df['Watershed 2'])"
   ]
  },
  {
   "cell_type": "code",
   "execution_count": 83,
   "id": "c106c30c-c10a-4a03-b8a2-af0e32c4750c",
   "metadata": {},
   "outputs": [
    {
     "data": {
      "text/plain": [
       "Text(0.5, 1.0, 'log($\\\\Delta$Q) histogram for normalility analysis')"
      ]
     },
     "execution_count": 83,
     "metadata": {},
     "output_type": "execute_result"
    },
    {
     "data": {
      "image/png": "[encoded data removed]",
      "text/plain": [
       "<Figure size 720x360 with 2 Axes>"
      ]
     },
     "metadata": {
      "needs_background": "light"
     },
     "output_type": "display_data"
    }
   ],
   "source": [
    "nbins = 10\n",
    "fig,axs = plt.subplots(ncols=2, figsize=(10,5))\n",
    "axs[0].hist(q12,bins=nbins,density=True, label=r'$\\Delta$Q') # to get pdfset density=True\n",
    "axs[1].hist(qlog12,bins=nbins,density=True, label=r'log($\\Delta$Q)') # to get pdfset density=True\n",
    "\n",
    "# Create values for z\n",
    "z_q = np.linspace(-4, 4, num=160) * q12.std()\n",
    "z_qlog = np.linspace(-4, 4, num=160) * qlog12.std()\n",
    "# Plot the theoretical PDF for each computation\n",
    "axs[0].plot(z_q, stats.norm.pdf(z_q,q12.mean(),q12.std()), label='Theoretical PDF')\n",
    "axs[0].legend()\n",
    "axs[0].set_ylabel('Probability')\n",
    "axs[0].set_xlabel(r'$\\Delta$Q')\n",
    "axs[0].set_title('$\\Delta$Q histogram for normalility analysis')\n",
    "\n",
    "axs[1].plot(z_qlog, stats.norm.pdf(z_qlog,qlog12.mean(),qlog12.std()), label='Theoretical PDF')\n",
    "axs[1].legend()\n",
    "axs[1].set_ylabel('Probability')\n",
    "axs[1].set_xlabel(r'$\\Delta$Q')\n",
    "axs[1].set_title('log($\\Delta$Q) histogram for normalility analysis')"
   ]
  },
  {
   "cell_type": "code",
   "execution_count": 84,
   "id": "835dbc63-6773-4159-b579-41bd231c4f35",
   "metadata": {},
   "outputs": [],
   "source": [
    "# I choose the straight difference since it looks for normal to me. Now I add this to the original dataframe\n",
    "df['diff'] = q12"
   ]
  },
  {
   "cell_type": "markdown",
   "id": "b3c2ad0d-e088-4e18-897c-ab2a7b0a1e09",
   "metadata": {},
   "source": [
    "Although the log difference can improve normality, by comparing the plots above it looks like the simple difference method looks more normal, when compared to a theoretical normal pdf. Thus, I will use the $\\Delta Q$ difference method for my analysis. \n",
    "\n",
    "The ANOVA test needs data that is normally distributed, so choosing a normalized dataset (or transforming it to look more normal) is vital for the ANOVA test to produce meaningful results."
   ]
  },
  {
   "cell_type": "markdown",
   "id": "9a485cb9-25e2-4bf2-9fa4-9b41d849b5d1",
   "metadata": {},
   "source": [
    "## Part C. \n",
    "State the null and the alternative hypothesis for the question of whether the four periods are statistically different from each other. State the type I error (alpha value) that you are willing to accept."
   ]
  },
  {
   "cell_type": "markdown",
   "id": "91efec8b-4948-4640-a58b-cc516ef13c5f",
   "metadata": {},
   "source": [
    "Null Hypothesis:\n",
    "$H_o$: Difference in peak flows between WS1 and WS2 is the same for the four different time periods\n",
    "\n",
    "Alternative Hypothesis:\n",
    "$H_a$: Difference in peak flows between WS1 and WS2 is statistically different for the four different time periods\n",
    "\n",
    "I want 95% confidence, so $\\alpha=0.05$\n",
    "\n",
    "In this case, we perform a one-way (also called one-factor) ANOVA to determine whether our null hypothesis ($H_o$) is true or not. We can reject the null hypothesis if  $p<\\alpha$."
   ]
  },
  {
   "cell_type": "markdown",
   "id": "0e33fa23-bca9-4411-8983-2b794fbac31b",
   "metadata": {},
   "source": [
    "## Part D.\n",
    "\n",
    "Perform an ANOVA test and discuss the results, related both to your hypothesis test listed above and to the more detailed question of which groups are statistically different from which other groups. Include graphs and/or tables that illustrate your results, and be sure to discuss what they mean. When using these ANOVA and other statistics functions, be sure that you understand what the code is doing (especially the defaults that different functions use) and outputting.\n",
    "\n",
    "For this application, we need to make sure the following assumptions are valid for the p-value to be valid (taken from scipy.stats.f_oneway documentation: https://docs.scipy.org/doc/scipy/reference/generated/scipy.stats.f_oneway.html):\n",
    "\n",
    "- The samples are independent. *This is true, the samples are not inter-dependent*\n",
    "\n",
    "- Each sample is from a normally distributed population. *This is approximately true, we tried to find a transformation that would approximate normality*\n",
    "\n",
    "- The population standard deviations of the groups are all equal. This property is known as homoscedasticity. *Since these are taken from the same population, the standard deviation is equal.*"
   ]
  },
  {
   "cell_type": "code",
   "execution_count": 108,
   "id": "2b9748a3-a1a7-4cb6-ad8b-ab1b95e7dc5e",
   "metadata": {},
   "outputs": [
    {
     "name": "stdout",
     "output_type": "stream",
     "text": [
      "F-statistic = 2.87\n",
      "p = 0.04402714850976671\n"
     ]
    },
    {
     "data": {
      "image/png": "[encoded data removed]",
      "text/plain": [
       "<Figure size 432x288 with 1 Axes>"
      ]
     },
     "metadata": {
      "needs_background": "light"
     },
     "output_type": "display_data"
    }
   ],
   "source": [
    "# code adapted from lab 3-1\n",
    "control = df[df['period']==periods[0]]\n",
    "active = df[df['period']==periods[1]]\n",
    "after_active = df[df['period']==periods[2]]\n",
    "far_after_active = df[df['period']==periods[3]]\n",
    "# Using boxplot, we can start to visually see differences between the periods\n",
    "plt.boxplot([control['diff'],\n",
    "            active['diff'],\n",
    "            after_active['diff'],\n",
    "            far_after_active['diff']],\n",
    "           labels=['Control', 'Active\\nLogging','After Active\\nLogging','Long After\\nActive Logging'])\n",
    "\n",
    "# Add labels\n",
    "plt.xlabel('Period')\n",
    "plt.ylabel('Difference in Peak Flows [cfs]')\n",
    "plt.title('Difference in Peak Flows between Watersheds\\nfor Each Period');\n",
    "# stats f_oneway functions takes the groups as input and returns an F and P-value\n",
    "fvalue, pvalue = stats.f_oneway(control['diff'], active['diff'], after_active['diff'], far_after_active['diff'])\n",
    "\n",
    "# print the results\n",
    "print(\"F-statistic = {}\".format( np.round(fvalue,2)))\n",
    "print(\"p = {}\".format( pvalue ))"
   ]
  },
  {
   "cell_type": "markdown",
   "id": "580422ca-7c27-4359-ab96-79d587a7dbc7",
   "metadata": {},
   "source": [
    "This $p=0.044$ is less than the chosen $\\alpha=0.05$, so we can reject the null hypothesis and accept the alternative, i.e. there was a change in peak flows between these time periods. The F statistic, where the p-value is derived from, is calculated by the following equation:\n",
    "$$F = \\frac{MSE}{MST}$$\n",
    "where MSE is the variablity between groups and MST is the variability within a single group:\n",
    "$$MSE = \\frac{\\sum^k_{j=1} n_j (\\overline{y_j}-\\overline{y})^2}{k-1}$$\n",
    "$$MST = \\frac{\\sum^k_{j=1}\\sum^{n_j}_{i=1}(y_{ij}-\\overline{y_j})^2}{N-k}$$\n",
    "\n",
    "Here, $1-k$ is the time period degrees of freedom (the number of sample means - 1) and $N-k$ is the error degrees of freedom (sum of the sample sizes, N,  minus the number of samples,k). Now let's performa another ANOVA test using a different function:"
   ]
  },
  {
   "cell_type": "code",
   "execution_count": 86,
   "id": "12541771-5a00-476c-852e-87d4d9124db5",
   "metadata": {},
   "outputs": [],
   "source": [
    "# following code blocks adapted from lab 3-1\n",
    "import statsmodels.api as sm\n",
    "from statsmodels.formula.api import ols"
   ]
  },
  {
   "cell_type": "code",
   "execution_count": 90,
   "id": "ae139371-0266-42c3-98db-b6cc332c662c",
   "metadata": {},
   "outputs": [
    {
     "name": "stdout",
     "output_type": "stream",
     "text": [
      "                            OLS Regression Results                            \n",
      "==============================================================================\n",
      "Dep. Variable:                   diff   R-squared:                       0.127\n",
      "Model:                            OLS   Adj. R-squared:                  0.083\n",
      "Method:                 Least Squares   F-statistic:                     2.868\n",
      "Date:                Sat, 23 Oct 2021   Prob (F-statistic):             0.0440\n",
      "Time:                        19:05:24   Log-Likelihood:                -214.97\n",
      "No. Observations:                  63   AIC:                             437.9\n",
      "Df Residuals:                      59   BIC:                             446.5\n",
      "Df Model:                           3                                         \n",
      "Covariance Type:            nonrobust                                         \n",
      "===================================================================================================\n",
      "                                      coef    std err          t      P>|t|      [0.025      0.975]\n",
      "---------------------------------------------------------------------------------------------------\n",
      "Intercept                          19.1062      3.792      5.039      0.000      11.518      26.694\n",
      "C(period)[T.after-logging]         -7.3246      4.268     -1.716      0.091     -15.864       1.215\n",
      "C(period)[T.control]              -12.8226      4.487     -2.858      0.006     -21.801      -3.845\n",
      "C(period)[T.long-after-logging]    -8.4253      4.009     -2.102      0.040     -16.447      -0.404\n",
      "==============================================================================\n",
      "Omnibus:                        1.361   Durbin-Watson:                   2.244\n",
      "Prob(Omnibus):                  0.506   Jarque-Bera (JB):                1.234\n",
      "Skew:                           0.189   Prob(JB):                        0.539\n",
      "Kurtosis:                       2.427   Cond. No.                         9.64\n",
      "==============================================================================\n",
      "\n",
      "Notes:\n",
      "[1] Standard Errors assume that the covariance matrix of the errors is correctly specified.\n"
     ]
    },
    {
     "data": {
      "text/html": [
       "<div>\n",
       "<style scoped>\n",
       "    .dataframe tbody tr th:only-of-type {\n",
       "        vertical-align: middle;\n",
       "    }\n",
       "\n",
       "    .dataframe tbody tr th {\n",
       "        vertical-align: top;\n",
       "    }\n",
       "\n",
       "    .dataframe thead th {\n",
       "        text-align: right;\n",
       "    }\n",
       "</style>\n",
       "<table border=\"1\" class=\"dataframe\">\n",
       "  <thead>\n",
       "    <tr style=\"text-align: right;\">\n",
       "      <th></th>\n",
       "      <th>sum_sq</th>\n",
       "      <th>df</th>\n",
       "      <th>F</th>\n",
       "      <th>PR(&gt;F)</th>\n",
       "    </tr>\n",
       "  </thead>\n",
       "  <tbody>\n",
       "    <tr>\n",
       "      <th>C(period)</th>\n",
       "      <td>494.857606</td>\n",
       "      <td>3.0</td>\n",
       "      <td>2.867861</td>\n",
       "      <td>0.044027</td>\n",
       "    </tr>\n",
       "    <tr>\n",
       "      <th>Residual</th>\n",
       "      <td>3393.539593</td>\n",
       "      <td>59.0</td>\n",
       "      <td>NaN</td>\n",
       "      <td>NaN</td>\n",
       "    </tr>\n",
       "  </tbody>\n",
       "</table>\n",
       "</div>"
      ],
      "text/plain": [
       "                sum_sq    df         F    PR(>F)\n",
       "C(period)   494.857606   3.0  2.867861  0.044027\n",
       "Residual   3393.539593  59.0       NaN       NaN"
      ]
     },
     "execution_count": 90,
     "metadata": {},
     "output_type": "execute_result"
    }
   ],
   "source": [
    "# performing this to show the other way the ANOVA test can be done with another package\n",
    "# reshape the d dataframe suitable for statsmodels package \n",
    "df_reshaped = pd.concat([control[['period','diff']], \n",
    "                         active[['period','diff']],\n",
    "                         after_active[['period','diff']], \n",
    "                         far_after_active[['period','diff']]])\n",
    "\n",
    "# # Ordinary Least Squares (OLS) model - creates a linear fitted model between diff and periods\n",
    "# # this function takes an R style function where one column is fitted (~) to another columns values\n",
    "model = ols('diff ~ C(period)', data=df_reshaped).fit() \n",
    "# printe model summary results\n",
    "print(model.summary())\n",
    "# significance of typ=2: This type tests for the sum of squares of one event after the other event. \n",
    "# from: https://md.psych.bio.uni-goettingen.de/mv/unit/lm_cat/lm_cat_unbal_ss_explained.html\n",
    "anova_table = sm.stats.anova_lm(model, typ=2)\n",
    "# display the results table\n",
    "anova_table"
   ]
  },
  {
   "cell_type": "markdown",
   "id": "7d0c8746-28e6-42e4-bde0-8c6827fafb96",
   "metadata": {},
   "source": [
    "Looks like values are the same, which thay should be. The null hypothesis is still rejected.\n",
    "\n",
    "Now let's see how each individual period is different from one another: "
   ]
  },
  {
   "cell_type": "code",
   "execution_count": 88,
   "id": "de7edfb7-f685-4d3a-ab18-28552522cfe1",
   "metadata": {},
   "outputs": [],
   "source": [
    "from statsmodels.stats.multicomp import pairwise_tukeyhsd"
   ]
  },
  {
   "cell_type": "code",
   "execution_count": 95,
   "id": "aabed859-c3dc-4d28-a23d-2851c498b3d5",
   "metadata": {},
   "outputs": [
    {
     "name": "stdout",
     "output_type": "stream",
     "text": [
      "           Multiple Comparison of Means - Tukey HSD, FWER=0.05           \n",
      "=========================================================================\n",
      "    group1           group2       meandiff p-adj   lower    upper  reject\n",
      "-------------------------------------------------------------------------\n",
      "active-logging      after-logging  -7.3246 0.3246  -18.608  3.9589  False\n",
      "active-logging            control -12.8226 0.0292  -24.685 -0.9601   True\n",
      "active-logging long-after-logging  -8.4253 0.1647 -19.0242  2.1737  False\n",
      " after-logging            control   -5.498 0.2953 -13.6839  2.6879  False\n",
      " after-logging long-after-logging  -1.1007    0.9  -7.3159  5.1145  False\n",
      "       control long-after-logging   4.3973  0.381  -2.8159 11.6105  False\n",
      "-------------------------------------------------------------------------\n"
     ]
    }
   ],
   "source": [
    "# perform multiple pairwise comparison (Tukey HSD), \n",
    "# endog is response variable, groups are the tested groups to compare\n",
    "period_comp = pairwise_tukeyhsd(endog=df_reshaped['diff'], groups=df_reshaped['period'], alpha=0.05)\n",
    "\n",
    "# display the results table\n",
    "print(period_comp)"
   ]
  },
  {
   "cell_type": "markdown",
   "id": "59df12b6-09f6-4b21-b4cf-a0673691db0f",
   "metadata": {},
   "source": [
    "The \"reject\" column in this table shows that the only periods that are different from one another are the active logging period and control period. All other periods were not shown to be statistically different from one another and, therefore, the null-hypothesis can be accepted. In other words, by comparing the difference in watershed peak values in the active logging period and post logging periods and the post-logging periods and the control period, the Tukey test results in the table above show no statistical difference between these groups. The difference between the active-logging period and the control period, however, was significant and the null-"
   ]
  }
 ],
 "metadata": {
  "kernelspec": {
   "display_name": "Python 3",
   "language": "python",
   "name": "python3"
  },
  "language_info": {
   "codemirror_mode": {
    "name": "ipython",
    "version": 3
   },
   "file_extension": ".py",
   "mimetype": "text/x-python",
   "name": "python",
   "nbconvert_exporter": "python",
   "pygments_lexer": "ipython3",
   "version": "3.8.8"
  }
 },
 "nbformat": 4,
 "nbformat_minor": 5
}
