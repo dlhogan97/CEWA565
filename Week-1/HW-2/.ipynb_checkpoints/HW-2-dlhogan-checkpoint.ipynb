{
 "cells": [
  {
   "cell_type": "markdown",
   "id": "e4c30b80-26f0-48bf-a707-25c15e16bfb8",
   "metadata": {},
   "source": [
    "# CEWA 565 - Homework \n",
    "\n",
    "### Daniel Hogan\n",
    "\n",
    "### 10/19/2021\n"
   ]
  },
  {
   "cell_type": "markdown",
   "id": "2c523789-2728-48b9-ac7e-78bf4830ab2e",
   "metadata": {},
   "source": []
  },
  {
   "cell_type": "code",
   "execution_count": null,
   "id": "0448b3af-9cf1-43c3-b34e-2ff60c9475aa",
   "metadata": {},
   "outputs": [],
   "source": [
    "# import packages to be used\n",
    "import numpy as np\n",
    "import pandas as pd\n",
    "import os\n",
    "import scipy.stats as stats\n",
    "\n",
    "import matplotlib.pyplot as plt\n",
    "import matplotlib.ticker as mticker\n",
    "%matplotlib inline"
   ]
  }
 ],
 "metadata": {
  "kernelspec": {
   "display_name": "Python 3",
   "language": "python",
   "name": "python3"
  },
  "language_info": {
   "codemirror_mode": {
    "name": "ipython",
    "version": 3
   },
   "file_extension": ".py",
   "mimetype": "text/x-python",
   "name": "python",
   "nbconvert_exporter": "python",
   "pygments_lexer": "ipython3",
   "version": "3.8.8"
  }
 },
 "nbformat": 4,
 "nbformat_minor": 5
}
